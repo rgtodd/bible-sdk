{
 "cells": [
  {
   "cell_type": "markdown",
   "metadata": {},
   "source": [
    "# Preprocess MorphGNT\n",
    "\n",
    "Processes all MorphGNT text files into a standard `morphgnt.csv` file.\n",
    "\n",
    "Columns in `morphgnt.csv` are defined in `biblesdk.columns`\n",
    "\n",
    "| MorphGNT | morphgnt.csv | Description |\n",
    "|----------|--------------|-------------|\n",
    "| Column 1 | SCRIPTURE_REFERENCE | Scripture reference in BBCCVV form. |\n",
    "| \" | BOOK | Book in integer form. |\n",
    "| \" | CHAPTER | Chapter in integer form. |\n",
    "| \" | VERSE | Verse in integer form. |\n",
    "| Column 2 | PART_OF_SPEECH_CODE | Encoded part of speech. |\n",
    "| \" | PART_OF_SPEECH | Part of speech description. |\n",
    "| Column 3 | INFLECTION_CODES | Encoded inflection information. |\n",
    "| \" | PERSON | Person description. |\n",
    "| \" | TENSE | Tense description. |\n",
    "| \" | VOICE | Voice description. |\n",
    "| \" | MOOD | Mood description. |\n",
    "| \" | CASE | Case description. |\n",
    "| \" | NUMBER | Number description. |\n",
    "| \" | GENDER | Gender description. |\n",
    "| \" | DEGREE | Degree description. |\n",
    "| Column 4 | TEXT | Word including punctuation. |\n",
    "| Column 5 | WORD | Word without punctuation. |\n",
    "| Column 6 | NORMALIZED_WORD | Normalized word (e.g., movable nu) |\n",
    "| Column 7 | LEMMA | Lemma |\n",
    "\n",
    "\n",
    "## Imports and Parameters"
   ]
  },
  {
   "cell_type": "code",
   "execution_count": 1,
   "metadata": {},
   "outputs": [],
   "source": [
    "from glob import glob\n",
    "from os import path\n",
    "from pandas import concat, read_csv, DataFrame\n",
    "\n",
    "import biblesdk.columns as bc\n",
    "\n",
    "INPUT_PATH_NAME = \"../BibleCore/Resources/MorphGnt\"\n",
    "OUTPUT_FILE_NAME = \"morphgnt.csv\""
   ]
  },
  {
   "cell_type": "markdown",
   "metadata": {},
   "source": [
    "## Parse MorphGnt Files into DataFrame (DF_WORDS)\n",
    "\n",
    "Loads all MorphGnt files into `DF_WORDS`."
   ]
  },
  {
   "cell_type": "code",
   "execution_count": 2,
   "metadata": {},
   "outputs": [],
   "source": [
    "all_files = glob(path.join(INPUT_PATH_NAME, \"*.txt\"))\n",
    "\n",
    "DF_WORDS: DataFrame = concat(\n",
    "    (\n",
    "        read_csv(\n",
    "            f,\n",
    "            names=[\n",
    "                bc.SCRIPTURE_REFERENCE,\n",
    "                bc.PART_OF_SPEECH_CODE,\n",
    "                bc.INFLECTION_CODES,\n",
    "                bc.TEXT,\n",
    "                bc.WORD,\n",
    "                bc.NORMALIZED_WORD,\n",
    "                bc.LEMMA,\n",
    "            ],\n",
    "            dtype={bc.SCRIPTURE_REFERENCE: \"str\"},\n",
    "            sep=\"\\\\s+\",\n",
    "            index_col=False,\n",
    "        )\n",
    "        for f in all_files\n",
    "    ),\n",
    "    ignore_index=True,\n",
    ")\n",
    "\n",
    "# print(\"===== DF_WORDS\")\n",
    "# print(DF_WORDS.__class__.__name__)\n",
    "# print(\"-----\")\n",
    "# pprint(vars(DF_WORDS))\n",
    "# print(\"-----\")\n",
    "# pprint(DF_WORDS)"
   ]
  },
  {
   "cell_type": "markdown",
   "metadata": {},
   "source": [
    "## Parse Scripture Reference\n",
    "\n",
    "Parses the `Scripture Reference` column into separate `Book`, `Chapter`, and `Verse` columns."
   ]
  },
  {
   "cell_type": "code",
   "execution_count": 3,
   "metadata": {},
   "outputs": [],
   "source": [
    "DF_WORDS[bc.BOOK] = DF_WORDS[bc.SCRIPTURE_REFERENCE].str[0:2].astype(int)\n",
    "DF_WORDS[bc.CHAPTER] = DF_WORDS[bc.SCRIPTURE_REFERENCE].str[2:4].astype(int)\n",
    "DF_WORDS[bc.VERSE] = DF_WORDS[bc.SCRIPTURE_REFERENCE].str[4:6].astype(int)\n",
    "\n",
    "# print(\"===== DF_WORDS\")\n",
    "# print(DF_WORDS.__class__.__name__)\n",
    "# print(\"-----\")\n",
    "# pprint(vars(DF_WORDS))\n",
    "# print(\"-----\")\n",
    "# pprint(DF_WORDS)"
   ]
  },
  {
   "cell_type": "markdown",
   "metadata": {},
   "source": [
    "## Parse Part of Speech Code\n",
    "\n",
    "Maps the values in `Part of Speech Code` into `Part of Speech`."
   ]
  },
  {
   "cell_type": "code",
   "execution_count": 4,
   "metadata": {},
   "outputs": [],
   "source": [
    "parts_of_speech = {\n",
    "    \"A-\": \"Adjective\",\n",
    "    \"C-\": \"Conjunction\",\n",
    "    \"D-\": \"Adverb\",\n",
    "    \"I-\": \"Interjection\",\n",
    "    \"N-\": \"Noun\",\n",
    "    \"P-\": \"Preposition\",\n",
    "    \"RA\": \"Definite Article\",\n",
    "    \"RD\": \"Pronoun - Demonstrative\",\n",
    "    \"RI\": \"Pronoun - Indefinite\",\n",
    "    \"RP\": \"Pronoun - Personal\",\n",
    "    \"RR\": \"Pronoun - Relative\",\n",
    "    \"V-\": \"Verb\",\n",
    "    \"X-\": \"Particle\",\n",
    "}\n",
    "\n",
    "DF_WORDS[bc.PART_OF_SPEECH] = DF_WORDS[bc.PART_OF_SPEECH_CODE].map(parts_of_speech)\n",
    "\n",
    "# print(\"===== DF_WORDS\")\n",
    "# print(DF_WORDS.__class__.__name__)\n",
    "# print(\"-----\")\n",
    "# pprint(vars(DF_WORDS))\n",
    "# print(\"-----\")\n",
    "# pprint(DF_WORDS)"
   ]
  },
  {
   "cell_type": "markdown",
   "metadata": {},
   "source": [
    "## Parse Inflection Codes"
   ]
  },
  {
   "cell_type": "code",
   "execution_count": 5,
   "metadata": {},
   "outputs": [],
   "source": [
    "infection_person = {\"1\": \"First\", \"2\": \"Second\", \"3\": \"Third\"}\n",
    "\n",
    "inflection_tense = {\n",
    "    \"P\": \"Present\",\n",
    "    \"I\": \"Imperfect\",\n",
    "    \"F\": \"Future\",\n",
    "    \"A\": \"Aorist\",\n",
    "    \"X\": \"Perfect\",\n",
    "    \"Y\": \"Pluperfect\",\n",
    "}\n",
    "\n",
    "inflection_voice = {\n",
    "    \"A\": \"Active\",\n",
    "    \"M\": \"Middle\",\n",
    "    \"P\": \"Passive\",\n",
    "}\n",
    "\n",
    "inflection_mood = {\n",
    "    \"I\": \"Indicative\",\n",
    "    \"D\": \"Imperative\",\n",
    "    \"S\": \"Subjunctive\",\n",
    "    \"O\": \"Optative\",\n",
    "    \"N\": \"Infinitive\",\n",
    "    \"P\": \"Participle\",\n",
    "}\n",
    "\n",
    "inflection_case = {\n",
    "    \"N\": \"Nominative\",\n",
    "    \"G\": \"Genitive\",\n",
    "    \"D\": \"Dative\",\n",
    "    \"A\": \"Accusative\",\n",
    "    \"V\": \"Vocative\",\n",
    "}\n",
    "\n",
    "inflection_number = {\n",
    "    \"S\": \"Singular\",\n",
    "    \"P\": \"Plural\",\n",
    "}\n",
    "\n",
    "inflection_gender = {\"M\": \"Masculine\", \"F\": \"Feminine\", \"N\": \"Neuter\"}\n",
    "\n",
    "inflection_degree = {\"C\": \"Comparative\", \"S\": \"Superlative\"}\n",
    "\n",
    "DF_WORDS[bc.PERSON] = DF_WORDS[bc.INFLECTION_CODES].str[0].map(infection_person)\n",
    "DF_WORDS[bc.TENSE] = DF_WORDS[bc.INFLECTION_CODES].str[1].map(inflection_tense)\n",
    "DF_WORDS[bc.VOICE] = DF_WORDS[bc.INFLECTION_CODES].str[2].map(inflection_voice)\n",
    "DF_WORDS[bc.MOOD] = DF_WORDS[bc.INFLECTION_CODES].str[3].map(inflection_mood)\n",
    "DF_WORDS[bc.CASE] = DF_WORDS[bc.INFLECTION_CODES].str[4].map(inflection_case)\n",
    "DF_WORDS[bc.NUMBER] = DF_WORDS[bc.INFLECTION_CODES].str[5].map(inflection_number)\n",
    "DF_WORDS[bc.GENDER] = DF_WORDS[bc.INFLECTION_CODES].str[6].map(inflection_gender)\n",
    "DF_WORDS[bc.DEGREE] = DF_WORDS[bc.INFLECTION_CODES].str[7].map(inflection_degree)\n",
    "\n",
    "# print(\"===== DF_WORDS\")\n",
    "# print(DF_WORDS.__class__.__name__)\n",
    "# print(\"-----\")\n",
    "# pprint(vars(DF_WORDS))\n",
    "# print(\"-----\")\n",
    "# pprint(DF_WORDS)"
   ]
  },
  {
   "cell_type": "markdown",
   "metadata": {},
   "source": [
    "## Write morphgnt.csv File"
   ]
  },
  {
   "cell_type": "code",
   "execution_count": 6,
   "metadata": {},
   "outputs": [],
   "source": [
    "DF_WORDS.to_csv(OUTPUT_FILE_NAME, index_label=bc.INDEX)"
   ]
  }
 ],
 "metadata": {
  "kernelspec": {
   "display_name": ".venv",
   "language": "python",
   "name": "python3"
  },
  "language_info": {
   "codemirror_mode": {
    "name": "ipython",
    "version": 3
   },
   "file_extension": ".py",
   "mimetype": "text/x-python",
   "name": "python",
   "nbconvert_exporter": "python",
   "pygments_lexer": "ipython3",
   "version": "3.13.3"
  }
 },
 "nbformat": 4,
 "nbformat_minor": 2
}
