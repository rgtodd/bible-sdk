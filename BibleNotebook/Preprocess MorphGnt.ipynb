{
 "cells": [
  {
   "cell_type": "markdown",
   "metadata": {},
   "source": [
    "# Preprocess MorphGNT\n",
    "\n",
    "Processes all MorphGNT text files into a standard `morphgnt.csv` file.\n",
    "\n",
    "## Parse MorphGnt Files into DataFrame (DF_WORDS)\n",
    "\n",
    "Loads all MorphGnt files into `DF_WORDS`."
   ]
  },
  {
   "cell_type": "code",
   "execution_count": 1,
   "metadata": {},
   "outputs": [],
   "source": [
    "import pandas as pd\n",
    "from glob import glob\n",
    "from os import path\n",
    "from pprint import pprint\n",
    "\n",
    "morphgnt_path = \"../BibleCore/Resources/MorphGnt\"\n",
    "\n",
    "all_files = glob(path.join(morphgnt_path, \"*.txt\"))\n",
    "\n",
    "DF_WORDS = pd.concat(\n",
    "    (\n",
    "        pd.read_csv(\n",
    "            f,\n",
    "            names=[\n",
    "                \"Scripture Reference\",\n",
    "                \"Part of Speech Code\",\n",
    "                \"Inflection Codes\",\n",
    "                \"Text\",\n",
    "                \"Word\",\n",
    "                \"Normalized Word\",\n",
    "                \"Lemma\",\n",
    "            ],\n",
    "            dtype={\"Scripture Reference\": \"str\"},\n",
    "            sep=\"\\\\s+\",\n",
    "            index_col=False,\n",
    "        )\n",
    "        for f in all_files\n",
    "    ),\n",
    "    ignore_index=True,\n",
    ")\n",
    "\n",
    "# print(\"===== DF_WORDS\")\n",
    "# print(DF_WORDS.__class__.__name__)\n",
    "# print(\"-----\")\n",
    "# pprint(vars(DF_WORDS))\n",
    "# print(\"-----\")\n",
    "# pprint(DF_WORDS)"
   ]
  },
  {
   "cell_type": "markdown",
   "metadata": {},
   "source": [
    "## Parse Scripture Reference\n",
    "\n",
    "Parses the `Scripture Reference` column into separate `Book`, `Chapter`, and `Verse` columns."
   ]
  },
  {
   "cell_type": "code",
   "execution_count": 2,
   "metadata": {},
   "outputs": [],
   "source": [
    "DF_WORDS[\"Book\"] = DF_WORDS[\"Scripture Reference\"].str[0:2].astype(int)\n",
    "DF_WORDS[\"Chapter\"] = DF_WORDS[\"Scripture Reference\"].str[2:4].astype(int)\n",
    "DF_WORDS[\"Verse\"] = DF_WORDS[\"Scripture Reference\"].str[4:6].astype(int)\n",
    "\n",
    "# print(\"===== DF_WORDS\")\n",
    "# print(DF_WORDS.__class__.__name__)\n",
    "# print(\"-----\")\n",
    "# pprint(vars(DF_WORDS))\n",
    "# print(\"-----\")\n",
    "# pprint(DF_WORDS)"
   ]
  },
  {
   "cell_type": "markdown",
   "metadata": {},
   "source": [
    "## Parse Part of Speech Code\n",
    "\n",
    "Maps the values in `Part of Speech Code` into `Part of Speech`."
   ]
  },
  {
   "cell_type": "code",
   "execution_count": 3,
   "metadata": {},
   "outputs": [],
   "source": [
    "parts_of_speech = {\n",
    "    \"A-\": \"Adjective\",\n",
    "    \"C-\": \"Conjunction\",\n",
    "    \"D-\": \"Adverb\",\n",
    "    \"I-\": \"Interjection\",\n",
    "    \"N-\": \"Noun\",\n",
    "    \"P-\": \"Preposition\",\n",
    "    \"RA\": \"Definite Article\",\n",
    "    \"RD\": \"Demonstrative Pronoun\",\n",
    "    \"RI\": \"Indefinite Pronoun\",\n",
    "    \"RP\": \"Personal Pronoun\",\n",
    "    \"RR\": \"Relative Pronoun\",\n",
    "    \"V-\": \"Verb\",\n",
    "    \"X-\": \"Particle\",\n",
    "}\n",
    "\n",
    "DF_WORDS[\"Part of Speech\"] = DF_WORDS[\"Part of Speech Code\"].map(parts_of_speech)\n",
    "\n",
    "# print(\"===== DF_WORDS\")\n",
    "# print(DF_WORDS.__class__.__name__)\n",
    "# print(\"-----\")\n",
    "# pprint(vars(DF_WORDS))\n",
    "# print(\"-----\")\n",
    "# pprint(DF_WORDS)"
   ]
  },
  {
   "cell_type": "markdown",
   "metadata": {},
   "source": [
    "## Parse Inflection Codes"
   ]
  },
  {
   "cell_type": "code",
   "execution_count": 4,
   "metadata": {},
   "outputs": [],
   "source": [
    "infection_person = {\"1\": \"First\", \"2\": \"Second\", \"3\": \"Third\"}\n",
    "\n",
    "inflection_tense = {\n",
    "    \"P\": \"Present\",\n",
    "    \"I\": \"Imperfect\",\n",
    "    \"F\": \"Future\",\n",
    "    \"A\": \"Aorist\",\n",
    "    \"X\": \"Perfect\",\n",
    "    \"Y\": \"Pluperfect\",\n",
    "}\n",
    "\n",
    "inflection_voice = {\n",
    "    \"A\": \"Active\",\n",
    "    \"M\": \"Middle\",\n",
    "    \"P\": \"Passive\",\n",
    "}\n",
    "\n",
    "inflection_mood = {\n",
    "    \"I\": \"Indicative\",\n",
    "    \"D\": \"Imperative\",\n",
    "    \"S\": \"Subjunctive\",\n",
    "    \"O\": \"Optative\",\n",
    "    \"N\": \"Infinitive\",\n",
    "    \"P\": \"Participle\",\n",
    "}\n",
    "\n",
    "inflection_case = {\n",
    "    \"N\": \"Nominative\",\n",
    "    \"G\": \"Genitive\",\n",
    "    \"D\": \"Dative\",\n",
    "    \"A\": \"Accusative\",\n",
    "    \"V\": \"Vocative\",\n",
    "}\n",
    "\n",
    "inflection_number = {\n",
    "    \"S\": \"Singular\",\n",
    "    \"P\": \"Plural\",\n",
    "}\n",
    "\n",
    "inflection_gender = {\"M\": \"Masculine\", \"F\": \"Feminine\", \"N\": \"Neuter\"}\n",
    "\n",
    "inflection_degree = {\"C\": \"Comparative\", \"S\": \"Superlative\"}\n",
    "\n",
    "DF_WORDS[\"Person\"] = DF_WORDS[\"Inflection Codes\"].str[0].map(infection_person)\n",
    "DF_WORDS[\"Tense\"] = DF_WORDS[\"Inflection Codes\"].str[1].map(inflection_tense)\n",
    "DF_WORDS[\"Voice\"] = DF_WORDS[\"Inflection Codes\"].str[2].map(inflection_voice)\n",
    "DF_WORDS[\"Mood\"] = DF_WORDS[\"Inflection Codes\"].str[3].map(inflection_mood)\n",
    "DF_WORDS[\"Case\"] = DF_WORDS[\"Inflection Codes\"].str[4].map(inflection_case)\n",
    "DF_WORDS[\"Number\"] = DF_WORDS[\"Inflection Codes\"].str[5].map(inflection_number)\n",
    "DF_WORDS[\"Gender\"] = DF_WORDS[\"Inflection Codes\"].str[6].map(inflection_gender)\n",
    "DF_WORDS[\"Degree\"] = DF_WORDS[\"Inflection Codes\"].str[7].map(inflection_degree)\n",
    "\n",
    "# print(\"===== DF_WORDS\")\n",
    "# print(DF_WORDS.__class__.__name__)\n",
    "# print(\"-----\")\n",
    "# pprint(vars(DF_WORDS))\n",
    "# print(\"-----\")\n",
    "# pprint(DF_WORDS)"
   ]
  },
  {
   "cell_type": "markdown",
   "metadata": {},
   "source": [
    "## Write morphgnt.csv File"
   ]
  },
  {
   "cell_type": "code",
   "execution_count": 5,
   "metadata": {},
   "outputs": [],
   "source": [
    "DF_WORDS.to_csv(\"morphgnt.csv\", index_label=\"Index\")"
   ]
  }
 ],
 "metadata": {
  "kernelspec": {
   "display_name": "Python 3",
   "language": "python",
   "name": "python3"
  },
  "language_info": {
   "codemirror_mode": {
    "name": "ipython",
    "version": 3
   },
   "file_extension": ".py",
   "mimetype": "text/x-python",
   "name": "python",
   "nbconvert_exporter": "python",
   "pygments_lexer": "ipython3",
   "version": "3.13.1"
  }
 },
 "nbformat": 4,
 "nbformat_minor": 2
}
