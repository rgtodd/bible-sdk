{
 "cells": [
  {
   "cell_type": "code",
   "execution_count": 16,
   "metadata": {},
   "outputs": [
    {
     "name": "stdout",
     "output_type": "stream",
     "text": [
      "   A  B\n",
      "0  1  3\n",
      "1  2  4\n",
      "====\n",
      "   A  B\n",
      "0  1  3\n",
      "1  2  4\n",
      "   B\n",
      "0  3\n",
      "1  4\n",
      "====\n",
      "   A  B\n",
      "0  1  3\n",
      "1  2  4\n",
      "   A  B\n",
      "0  1  3\n"
     ]
    }
   ],
   "source": [
    "import pandas as pd\n",
    "from pprint import pprint\n",
    "\n",
    "df = pd.DataFrame({\"A\": [1, 2], \"B\": [3, 4]})\n",
    "pprint(df)\n",
    "\n",
    "print('====') \n",
    "\n",
    "df1 = df.drop(\"A\", axis='columns') # Drop column A\n",
    "pprint(df)\n",
    "pprint(df1)\n",
    " \n",
    "print('====') \n",
    "\n",
    "df2 = df.drop(1, axis='index') # Drop column A\n",
    "pprint(df)\n",
    "pprint(df2)\n",
    " \n",
    "#    A  B\n",
    "# 1  2  4 \n",
    " \n",
    "#df.drop(\"A\", axis=1) # Drop column A"
   ]
  }
 ],
 "metadata": {
  "kernelspec": {
   "display_name": "Python 3",
   "language": "python",
   "name": "python3"
  },
  "language_info": {
   "codemirror_mode": {
    "name": "ipython",
    "version": 3
   },
   "file_extension": ".py",
   "mimetype": "text/x-python",
   "name": "python",
   "nbconvert_exporter": "python",
   "pygments_lexer": "ipython3",
   "version": "3.13.1"
  }
 },
 "nbformat": 4,
 "nbformat_minor": 2
}
