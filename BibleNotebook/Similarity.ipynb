{
 "cells": [
  {
   "cell_type": "markdown",
   "metadata": {},
   "source": [
    "# Find similiarity"
   ]
  },
  {
   "cell_type": "code",
   "execution_count": 1,
   "metadata": {},
   "outputs": [
    {
     "data": {
      "text/html": [
       "<div>\n",
       "<style scoped>\n",
       "    .dataframe tbody tr th:only-of-type {\n",
       "        vertical-align: middle;\n",
       "    }\n",
       "\n",
       "    .dataframe tbody tr th {\n",
       "        vertical-align: top;\n",
       "    }\n",
       "\n",
       "    .dataframe thead th {\n",
       "        text-align: right;\n",
       "    }\n",
       "</style>\n",
       "<table border=\"1\" class=\"dataframe\">\n",
       "  <thead>\n",
       "    <tr style=\"text-align: right;\">\n",
       "      <th></th>\n",
       "      <th>user1</th>\n",
       "      <th>user2</th>\n",
       "      <th>similarity</th>\n",
       "    </tr>\n",
       "  </thead>\n",
       "  <tbody>\n",
       "    <tr>\n",
       "      <th>0</th>\n",
       "      <td>adeline</td>\n",
       "      <td>ericko</td>\n",
       "      <td>0.500000</td>\n",
       "    </tr>\n",
       "    <tr>\n",
       "      <th>1</th>\n",
       "      <td>adeline</td>\n",
       "      <td>mary</td>\n",
       "      <td>0.733333</td>\n",
       "    </tr>\n",
       "    <tr>\n",
       "      <th>2</th>\n",
       "      <td>ericko</td>\n",
       "      <td>mary</td>\n",
       "      <td>0.550000</td>\n",
       "    </tr>\n",
       "  </tbody>\n",
       "</table>\n",
       "</div>"
      ],
      "text/plain": [
       "     user1   user2  similarity\n",
       "0  adeline  ericko    0.500000\n",
       "1  adeline    mary    0.733333\n",
       "2   ericko    mary    0.550000"
      ]
     },
     "execution_count": 1,
     "metadata": {},
     "output_type": "execute_result"
    }
   ],
   "source": [
    "import itertools\n",
    "import pandas as pd\n",
    "\n",
    "# copied from OP above\n",
    "def jaccard_similarity(x, y):\n",
    "    \"\"\" returns the jaccard similarity between two lists \"\"\"\n",
    "    intersection_cardinality = len(set.intersection(*[set(x), set(y)]))\n",
    "    union_cardinality = len(set.union(*[set(x), set(y)]))\n",
    "    return intersection_cardinality/float(union_cardinality)\n",
    "\n",
    "# set initial data and create dataframe\n",
    "data = {\"wordings\": [\"apple,banana,orange,pears\", \"banana,jackfruit,berries,apple\", \"berries,grapes,watermelon\"], \"users\": [\"adeline\", \"ericko\", \"mary\"]}\n",
    "df = pd.DataFrame(data)\n",
    "\n",
    "# create list of tuples like [(wording, user), (wording, user)]\n",
    "wordings_users = list(zip(df[\"wordings\"], df[\"users\"]))\n",
    "\n",
    "result = []\n",
    "\n",
    "# create list of all possible combinations between sets of (wording, user) and loop through them\n",
    "for item in list(itertools.combinations(wordings_users, 2)):\n",
    "    similarity = jaccard_similarity(item[0][0], item[1][0])\n",
    "    data = {\"user1\": item[0][1], \"user2\": item[1][1], \"similarity\": similarity}\n",
    "    result.append(data)\n",
    "\n",
    "df1 = pd.DataFrame(result)\n",
    "df1"
   ]
  }
 ],
 "metadata": {
  "kernelspec": {
   "display_name": "Python 3",
   "language": "python",
   "name": "python3"
  },
  "language_info": {
   "codemirror_mode": {
    "name": "ipython",
    "version": 3
   },
   "file_extension": ".py",
   "mimetype": "text/x-python",
   "name": "python",
   "nbconvert_exporter": "python",
   "pygments_lexer": "ipython3",
   "version": "3.13.1"
  }
 },
 "nbformat": 4,
 "nbformat_minor": 2
}
